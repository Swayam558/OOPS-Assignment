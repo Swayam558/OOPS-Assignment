{
  "nbformat": 4,
  "nbformat_minor": 0,
  "metadata": {
    "colab": {
      "provenance": []
    },
    "kernelspec": {
      "name": "python3",
      "display_name": "Python 3"
    },
    "language_info": {
      "name": "python"
    }
  },
  "cells": [
    {
      "cell_type": "markdown",
      "source": [
        "# OOPS Assignment"
      ],
      "metadata": {
        "id": "adF-_Skyp5J-"
      }
    },
    {
      "cell_type": "markdown",
      "source": [
        "1. What is Object-Oriented Programming (OOP)?\n",
        "\n",
        " -  Object-Oriented Programming (OOP) is a programming approach that organizes software design around data, or objects, rather than functions and logic. An object is an instance of a class, which serves as a blueprint that defines the object's properties and behaviors. OOP is based on four main principles: encapsulation, inheritance, polymorphism, and abstraction. Encapsulation means keeping the data and the methods that operate on that data together in a single unit, and restricting direct access to some of the object's components. Inheritance allows one class to inherit the properties and methods of another, promoting code reuse and reducing redundancy. Polymorphism enables objects to be treated as instances of their parent class, allowing the same method to perform different tasks depending on the object. Abstraction involves hiding the complex details and showing only the essential features of an object. These principles make OOP highly effective in managing large and complex software systems, as it improves code organization, reusability, and maintainability. Popular OOP languages include Java, Python, and C++.\n",
        "\n",
        "2. What is a class in OOP+\n",
        "  -  In Object-Oriented Programming (OOP), a class is a blueprint or template used to create objects. It defines the attributes (data) and methods (functions) that the objects created from the class will have. A class does not hold actual data itself—it only describes what kind of data and behavior its objects will possess.\n",
        "  For example, if you create a class called Car, it might have attributes like color, model, and speed, and methods like drive() or brake(). Each individual car (object) you create from this class will have its own specific values for these attributes but will share the same structure and behavior defined by the class.\n",
        "\n",
        "3. What is an object in OOP?\n",
        "\n",
        " -  In Object-Oriented Programming (OOP), an object is an instance of a class. While a class acts as a blueprint or template, an object is a real-world entity created using that blueprint. It holds actual values for the attributes defined in the class and can use the class’s methods to perform actions.\n",
        " Each object has two main components:\n",
        " Attributes – also known as properties or data members (e.g., color, size, name).\n",
        " Methods – functions that define the behavior of the object (e.g., move(), speak(), calculate()).\n",
        "\n",
        " 4.  What is the difference between abstraction and encapsulation?\n",
        "  -  In Object-Oriented Programming (OOP), abstraction and encapsulation are two fundamental concepts that help in managing complexity and improving code structure, but they serve different purposes.\n",
        "  Abstraction refers to the process of hiding the complex internal details of a system and exposing only the essential features to the user. It allows programmers to focus on what an object does rather than how it performs its functions. For example, when you use a mobile phone, you interact with the interface (like buttons or touch screen) without needing to know the underlying hardware or software processes. In programming, abstraction is achieved using abstract classes, interfaces, or even regular methods that hide complex logic. This makes the code more user-friendly, readable, and easier to maintain.\n",
        "  On the other hand, encapsulation is the technique of bundling data (variables) and methods (functions) that operate on that data within a single unit, usually a class. It also involves restricting direct access to some of an object's components, which is typically done using access modifiers like private, protected, or public. Encapsulation ensures that the internal state of an object is protected from unauthorized changes, and any modifications happen only through well-defined methods. For example, a BankAccount class might have a private balance variable and public methods like deposit() or withdraw() to control how the balance is changed.\n",
        "  In summary, abstraction is about hiding unnecessary details to simplify usage, while encapsulation is about hiding sensitive data to protect and control access. Both work together to build secure, clean, and well-organized software systems.\n",
        "\n",
        "5. What are dunder methods in Python?\n",
        " -  In Python, dunder methods (short for \"double underscore\") are special predefined methods that start and end with two underscores, like __init__, __str__, or __len__. These methods are also known as magic methods because they allow developers to define how objects of a class should behave with built-in operations, such as arithmetic, comparison, and type conversion. By using dunder methods, you can make your custom classes act like built-in types, providing more intuitive and readable code.\n",
        " For example, the __init__ method is a constructor that gets called automatically when a new object is created from a class. Similarly, __str__ defines how an object should be represented as a string when passed to the print() function. If you want to allow your objects to be used with the + operator, you can implement the __add__ method, or use __len__ to make the object compatible with Python’s built-in len() function. These methods enhance the flexibility and functionality of custom classes, enabling developers to control behavior in a clean and Pythonic way.\n",
        " Overall, dunder methods help in customizing class behavior to support standard Python operations, making your objects more powerful and easier to work with. They are widely used in class definitions and are a core part of Python's object-oriented features.\n",
        "\n",
        "6. Explain the concept of inheritance in OOP?\n",
        " -  Inheritance in Object-Oriented Programming (OOP) is a feature that allows a class, known as the child or subclass, to acquire the attributes and methods of another class, known as the parent or superclass. This means that the child class can use the functionality of the parent class without having to rewrite the same code, making the development process more efficient and reducing redundancy. The child class can also extend the parent class by adding new attributes or methods, or it can override existing methods to modify their behavior as needed.\n",
        "\n"
      ],
      "metadata": {
        "id": "sGPYLQPifuxq"
      }
    },
    {
      "cell_type": "code",
      "source": [
        "# 1. Create a parent class Animal with a method speak() that prints a generic message. Create a child class Dog that overrides the speak() method to print \"Bark!\".\n",
        "  # Parent class\n",
        "class Animal:\n",
        "    def speak(self):\n",
        "        print(\"This animal makes a sound.\")\n",
        "\n",
        "# Child class\n",
        "class Dog(Animal):\n",
        "    def speak(self):  # Overriding the parent method\n",
        "        print(\"Bark!\")\n",
        "\n",
        "# Example usage\n",
        "generic_animal = Animal()\n",
        "generic_animal.speak()  # Output: This animal makes a sound.\n",
        "\n",
        "my_dog = Dog()\n",
        "my_dog.speak()\n"
      ],
      "metadata": {
        "id": "OIVG12JhZxk9"
      },
      "execution_count": null,
      "outputs": []
    },
    {
      "cell_type": "code",
      "source": [
        "# Write a program to create an abstract class Shape with a method area(). Derive classes Circle and Rectangle from it and implement the area() method in both.\n",
        " from abc import ABC, abstractmethod\n",
        "import math\n",
        "\n",
        "# Abstract class\n",
        "class Shape(ABC):\n",
        "    @abstractmethod\n",
        "    def area(self):\n",
        "        pass\n",
        "\n",
        "# Derived class for Circle\n",
        "class Circle(Shape):\n",
        "    def __init__(self, radius):\n",
        "        self.radius = radius\n",
        "\n",
        "    def area(self):\n",
        "        return math.pi * self.radius ** 2\n",
        "\n",
        "# Derived class for Rectangle\n",
        "class Rectangle(Shape):\n",
        "    def __init__(self, length, width):\n",
        "        self.length = length\n",
        "        self.width = width\n",
        "\n",
        "    def area(self):\n",
        "        return self.length * self.width\n",
        "\n",
        "# Example usage\n",
        "circle = Circle(5)\n",
        "rectangle = Rectangle(4, 6)\n",
        "\n",
        "print(f\"Circle Area: {circle.area():.2f}\")       # Circle Area: 78.54\n",
        "print(f\"Rectangle Area: {rectangle.area():.2f}\") # Rectangle Area: 24.00\n",
        "\n",
        "\n",
        "\n"
      ],
      "metadata": {
        "id": "tmerdiaQaD7k"
      },
      "execution_count": null,
      "outputs": []
    }
  ]
}